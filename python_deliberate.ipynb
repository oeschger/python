{
 "cells": [
  {
   "cell_type": "markdown",
   "metadata": {},
   "source": [
    "# Python deliberative practice\n",
    "\n",
    "Starting some notebooks and maybe essays on Python, Git, Flask, IBM Cloud\n",
    "\n",
    "- Would be good to absorb everything in this tutorial:\n",
    "  https://blog.miguelgrinberg.com/post/designing-a-restful-api-with-python-and-flask\n",
    "- And mix it with everything in this tutorial:\n",
    "  https://github.com/IBM-Cloud/get-started-python\n",
    "\n",
    "This would be like 4 hours or learning that would be ENORMOUSLY beneficial "
   ]
  }
 ],
 "metadata": {
  "kernelspec": {
   "display_name": "Python 3",
   "language": "python",
   "name": "python3"
  },
  "language_info": {
   "codemirror_mode": {
    "name": "ipython",
    "version": 3
   },
   "file_extension": ".py",
   "mimetype": "text/x-python",
   "name": "python",
   "nbconvert_exporter": "python",
   "pygments_lexer": "ipython3",
   "version": "3.7.6"
  }
 },
 "nbformat": 4,
 "nbformat_minor": 4
}
